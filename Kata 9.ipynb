{
 "cells": [
  {
   "cell_type": "markdown",
   "metadata": {},
   "source": [
    "## Ejercicio 1"
   ]
  },
  {
   "cell_type": "code",
   "execution_count": 48,
   "metadata": {},
   "outputs": [],
   "source": [
    "def reporte(tanque1, tanque2, tanque3):\n",
    "    promedio = (tanque1 + tanque2 + tanque3) / 3\n",
    "    return f\"\"\"Informe:\n",
    "    Promedio: {promedio}%\n",
    "    tanque1: {tanque1}%\n",
    "    tanque2: {tanque2}%\n",
    "    tanque3: {tanque3}% \"\"\""
   ]
  },
  {
   "cell_type": "code",
   "execution_count": 49,
   "metadata": {},
   "outputs": [
    {
     "name": "stdout",
     "output_type": "stream",
     "text": [
      "Informe:\n",
      "    Promedio: 78.33333333333333%\n",
      "    tanque1: 80%\n",
      "    tanque2: 70%\n",
      "    tanque3: 85% \n"
     ]
    }
   ],
   "source": [
    "print(reporte(80, 70, 85))"
   ]
  },
  {
   "cell_type": "code",
   "execution_count": 50,
   "metadata": {},
   "outputs": [
    {
     "data": {
      "text/plain": [
       "82.0"
      ]
     },
     "execution_count": 50,
     "metadata": {},
     "output_type": "execute_result"
    }
   ],
   "source": [
    "def promedio(values):\n",
    "    total = sum(values)\n",
    "    n = len(values)\n",
    "    return total / n\n",
    "    \n",
    "promedio([80, 85, 81]) "
   ]
  },
  {
   "cell_type": "code",
   "execution_count": 51,
   "metadata": {},
   "outputs": [
    {
     "name": "stdout",
     "output_type": "stream",
     "text": [
      "Informe:\n",
      "    Promedio:78.0%\n",
      "    tanque1: 88%\n",
      "    tanque2: 76%\n",
      "    tanque3: 70% \n"
     ]
    }
   ],
   "source": [
    "def reporte(tanque1, tanque2, tanque3):\n",
    "    return f\"\"\"Informe:\n",
    "    Promedio:{promedio([tanque1,tanque2,tanque3])}%\n",
    "    tanque1: {tanque1}%\n",
    "    tanque2: {tanque2}%\n",
    "    tanque3: {tanque3}% \"\"\"\n",
    "    \n",
    "print(reporte(88, 76, 70))"
   ]
  },
  {
   "cell_type": "markdown",
   "metadata": {},
   "source": [
    "## Ejercicio 2"
   ]
  },
  {
   "cell_type": "code",
   "execution_count": 52,
   "metadata": {},
   "outputs": [
    {
     "name": "stdout",
     "output_type": "stream",
     "text": [
      "Mision a Moon\n",
      "    Tiempo total de viaje: 65 minutos\n",
      "    Combustible total restante: 500000 galones \n"
     ]
    }
   ],
   "source": [
    "def informe_mision(hora_prelanzamiento, tiempo_vuelo, destino, tanque_externo, tanque_interno):\n",
    "    return f\"\"\"Mision a {destino}\n",
    "    Tiempo total de viaje: {hora_prelanzamiento + tiempo_vuelo} minutos\n",
    "    Combustible total restante: {tanque_externo + tanque_interno} galones \"\"\"\n",
    "\n",
    "print(informe_mision(14, 51, \"Moon\", 200000, 300000))"
   ]
  },
  {
   "cell_type": "code",
   "execution_count": 53,
   "metadata": {},
   "outputs": [
    {
     "name": "stdout",
     "output_type": "stream",
     "text": [
      "Mision a Moon\n",
      "    Tiempo total de viaje: 76 minutes\n",
      "    Combustible total restante: 500000 galones\n"
     ]
    }
   ],
   "source": [
    "def informe_mision(destino, *minutos, **tanques_combustible):\n",
    "    return f\"\"\"Mision a {destino}\n",
    "    Tiempo total de viaje: {sum(minutos)} minutes\n",
    "    Combustible total restante: {sum(tanques_combustible.values())} galones\"\"\"\n",
    "\n",
    "print(informe_mision(\"Moon\", 10, 15, 51, main=300000, external=200000))"
   ]
  },
  {
   "cell_type": "code",
   "execution_count": 54,
   "metadata": {},
   "outputs": [
    {
     "name": "stdout",
     "output_type": "stream",
     "text": [
      "Mision a Moon\n",
      "    Tiempo total de viaje: 74 minutes\n",
      "    Combustible total restante: 500000 galones\n",
      "    main tanque --> 300000 galones restantes\n",
      "external tanque --> 200000 galones restantes\n",
      "\n"
     ]
    }
   ],
   "source": [
    "def informe_mision(destino, *minutos, **tanques_combustible):\n",
    "    informe = f\"\"\"Mision a {destino}\n",
    "    Tiempo total de viaje: {sum(minutos)} minutes\n",
    "    Combustible total restante: {sum(tanques_combustible.values())} galones\n",
    "    \"\"\"\n",
    "    \n",
    "    for tanque, galones in tanques_combustible.items():\n",
    "       informe = informe + f\"{tanque} tanque --> {galones} galones restantes\\n\"\n",
    "    return informe\n",
    "\n",
    "print(informe_mision(\"Moon\", 8, 11, 55, main=300000, external=200000))"
   ]
  }
 ],
 "metadata": {
  "interpreter": {
   "hash": "cfcfbbd76e88e95dc35e2ca9edf0c1e882d0553cc29bc4cac8c0f4eabeb0ecb9"
  },
  "kernelspec": {
   "display_name": "Python 3.10.2 64-bit",
   "language": "python",
   "name": "python3"
  },
  "language_info": {
   "codemirror_mode": {
    "name": "ipython",
    "version": 3
   },
   "file_extension": ".py",
   "mimetype": "text/x-python",
   "name": "python",
   "nbconvert_exporter": "python",
   "pygments_lexer": "ipython3",
   "version": "3.10.2"
  },
  "orig_nbformat": 4
 },
 "nbformat": 4,
 "nbformat_minor": 2
}
