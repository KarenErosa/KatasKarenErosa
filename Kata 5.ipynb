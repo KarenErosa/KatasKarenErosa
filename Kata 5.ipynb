{
 "cells": [
  {
   "cell_type": "markdown",
   "metadata": {},
   "source": [
    "## Ejercicio 1"
   ]
  },
  {
   "cell_type": "code",
   "execution_count": 21,
   "metadata": {},
   "outputs": [],
   "source": [
    "distancia_tierra = 149597870\n",
    "distancia_jupiter = 778547200"
   ]
  },
  {
   "cell_type": "code",
   "execution_count": 26,
   "metadata": {},
   "outputs": [
    {
     "name": "stdout",
     "output_type": "stream",
     "text": [
      "Existen 628949330 Kilometros entre Jupiter y la Tierra\n",
      "Existen 390577533.93 Millas entre Jupiter y la Tierra\n"
     ]
    }
   ],
   "source": [
    "distancia_kilometros = distancia_jupiter - distancia_tierra\n",
    "print('Existen',distancia_kilometros,'Kilometros entre Jupiter y la Tierra')\n",
    "\n",
    "distancia_millas = distancia_kilometros * 0.621\n",
    "print('Existen', distancia_millas,'Millas entre Jupiter y la Tierra')"
   ]
  },
  {
   "cell_type": "markdown",
   "metadata": {},
   "source": [
    "## Ejercicio 2"
   ]
  },
  {
   "cell_type": "code",
   "execution_count": 23,
   "metadata": {},
   "outputs": [],
   "source": [
    "distancia_p1 = input('¿Cuál la distancia desde el sol hasta el primer planeta, en kilometros?')\n",
    "distancia_p2 = input('¿Cuál la distancia desde el sol hasta el segundo planeta, en kilometros?')"
   ]
  },
  {
   "cell_type": "code",
   "execution_count": 24,
   "metadata": {},
   "outputs": [],
   "source": [
    "distancia_planeta1 = int(distancia_p1)\n",
    "distancia_planeta2 = int(distancia_p2)"
   ]
  },
  {
   "cell_type": "code",
   "execution_count": 25,
   "metadata": {},
   "outputs": [
    {
     "name": "stdout",
     "output_type": "stream",
     "text": [
      "Existen 628949330 Kilometros entre Jupiter y la Tierra\n",
      "Existen 390577533.93 Millas entre Jupiter y la Tierra\n"
     ]
    }
   ],
   "source": [
    "distancia_kilometros = distancia_planeta1 - distancia_planeta2\n",
    "print('Existen', abs(distancia_kilometros),'Kilometros entre Jupiter y la Tierra')\n",
    "\n",
    "distancia_millas = distancia_kilometros * 0.621\n",
    "print('Existen', abs(distancia_millas),'Millas entre Jupiter y la Tierra')"
   ]
  }
 ],
 "metadata": {
  "interpreter": {
   "hash": "cfcfbbd76e88e95dc35e2ca9edf0c1e882d0553cc29bc4cac8c0f4eabeb0ecb9"
  },
  "kernelspec": {
   "display_name": "Python 3.10.2 64-bit",
   "language": "python",
   "name": "python3"
  },
  "language_info": {
   "codemirror_mode": {
    "name": "ipython",
    "version": 3
   },
   "file_extension": ".py",
   "mimetype": "text/x-python",
   "name": "python",
   "nbconvert_exporter": "python",
   "pygments_lexer": "ipython3",
   "version": "3.10.2"
  },
  "orig_nbformat": 4
 },
 "nbformat": 4,
 "nbformat_minor": 2
}
